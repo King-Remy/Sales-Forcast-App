{
 "cells": [
  {
   "cell_type": "markdown",
   "metadata": {},
   "source": [
    "# EDA"
   ]
  },
  {
   "cell_type": "code",
   "execution_count": 31,
   "metadata": {},
   "outputs": [],
   "source": [
    "import pandas as pd\n",
    "import matplotlib.pyplot as plt\n",
    "import numpy as np\n",
    "import seaborn as sns\n",
    "import os\n",
    "import glob\n",
    "import json\n",
    "\n",
    "import xgboost as xgb\n",
    "\n",
    "import statsmodels.api as sm\n",
    "from sklearn.model_selection import train_test_split\n",
    "from sklearn.utils import shuffle\n",
    "from sklearn.linear_model import LogisticRegression\n",
    "from sklearn.ensemble import RandomForestRegressor, RandomForestClassifier, ExtraTreesClassifier\n",
    "from sklearn.metrics import mean_squared_error, accuracy_score\n",
    "from sklearn.cluster import KMeans, AgglomerativeClustering\n",
    "from sklearn.preprocessing import StandardScaler, LabelEncoder\n",
    "from pmdarima import auto_arima\n",
    "from scipy.stats import pearsonr\n",
    "from statsmodels.tsa.stattools import adfuller"
   ]
  },
  {
   "cell_type": "code",
   "execution_count": 32,
   "metadata": {},
   "outputs": [],
   "source": [
    "# set variables from config file\n",
    "config_path = os.path.abspath('..')\n",
    "\n",
    "with open(config_path + '\\config-example.json', 'r') as f:\n",
    "    config = json.load(f)\n",
    "\n",
    "dataset_audited_fname = config['DEFAULT']['dataset_audited_fname']\n",
    "dataset_EDA_fname = config['DEFAULT']['dataset_EDA_fname']\n",
    "processing_path = config['DEFAULT']['processing_path']\n",
    "dataset_fname_suffix = config['DEFAULT']['dataset_fname_suffix']"
   ]
  },
  {
   "cell_type": "code",
   "execution_count": 33,
   "metadata": {},
   "outputs": [
    {
     "name": "stderr",
     "output_type": "stream",
     "text": [
      "C:\\Users\\KingRemy\\AppData\\Local\\Temp\\ipykernel_17200\\1252656687.py:1: DtypeWarning: Columns (6) have mixed types. Specify dtype option on import or set low_memory=False.\n",
      "  client_data = pd.read_csv(os.path.join(processing_path,dataset_audited_fname) + dataset_fname_suffix, header = 0, delimiter = ',',)\n"
     ]
    }
   ],
   "source": [
    "client_data = pd.read_csv(os.path.join(processing_path,dataset_audited_fname) + dataset_fname_suffix, header = 0, delimiter = ',',)"
   ]
  },
  {
   "cell_type": "code",
   "execution_count": 34,
   "metadata": {},
   "outputs": [
    {
     "name": "stdout",
     "output_type": "stream",
     "text": [
      "<class 'pandas.core.frame.DataFrame'>\n",
      "RangeIndex: 658446 entries, 0 to 658445\n",
      "Data columns (total 15 columns):\n",
      " #   Column             Non-Null Count   Dtype  \n",
      "---  ------             --------------   -----  \n",
      " 0   EventName          658446 non-null  object \n",
      " 1   StartDate          658446 non-null  object \n",
      " 2   EventType          658446 non-null  object \n",
      " 3   BookingReference   658446 non-null  object \n",
      " 4   AttendeeReference  658446 non-null  object \n",
      " 5   GroupSize          658446 non-null  int64  \n",
      " 6   IsLeadAttendee     658446 non-null  object \n",
      " 7   AttendeeGrossCost  658446 non-null  float64\n",
      " 8   EventId            658446 non-null  int64  \n",
      " 9   BookingStatus      658446 non-null  object \n",
      " 10  AttendeeType       658446 non-null  object \n",
      " 11  StatusCreatedDate  658444 non-null  object \n",
      " 12  ClientId           658446 non-null  float64\n",
      " 13  StartYear          658446 non-null  int64  \n",
      " 14  StatusCreatedYear  658444 non-null  float64\n",
      "dtypes: float64(3), int64(3), object(9)\n",
      "memory usage: 75.4+ MB\n"
     ]
    }
   ],
   "source": [
    "client_data.info()"
   ]
  },
  {
   "cell_type": "code",
   "execution_count": 35,
   "metadata": {},
   "outputs": [
    {
     "data": {
      "text/html": [
       "<div>\n",
       "<style scoped>\n",
       "    .dataframe tbody tr th:only-of-type {\n",
       "        vertical-align: middle;\n",
       "    }\n",
       "\n",
       "    .dataframe tbody tr th {\n",
       "        vertical-align: top;\n",
       "    }\n",
       "\n",
       "    .dataframe thead th {\n",
       "        text-align: right;\n",
       "    }\n",
       "</style>\n",
       "<table border=\"1\" class=\"dataframe\">\n",
       "  <thead>\n",
       "    <tr style=\"text-align: right;\">\n",
       "      <th></th>\n",
       "      <th>EventName</th>\n",
       "      <th>StartDate</th>\n",
       "      <th>EventType</th>\n",
       "      <th>BookingReference</th>\n",
       "      <th>AttendeeReference</th>\n",
       "      <th>GroupSize</th>\n",
       "      <th>IsLeadAttendee</th>\n",
       "      <th>AttendeeGrossCost</th>\n",
       "      <th>EventId</th>\n",
       "      <th>BookingStatus</th>\n",
       "      <th>AttendeeType</th>\n",
       "      <th>StatusCreatedDate</th>\n",
       "      <th>ClientId</th>\n",
       "      <th>StartYear</th>\n",
       "      <th>StatusCreatedYear</th>\n",
       "    </tr>\n",
       "  </thead>\n",
       "  <tbody>\n",
       "    <tr>\n",
       "      <th>0</th>\n",
       "      <td>Developing Reading and Writing Skills</td>\n",
       "      <td>2017-11-28 00:00:00</td>\n",
       "      <td>Others, Group 1</td>\n",
       "      <td>B462687</td>\n",
       "      <td>A514297</td>\n",
       "      <td>1</td>\n",
       "      <td>True</td>\n",
       "      <td>0.0</td>\n",
       "      <td>14983</td>\n",
       "      <td>Attending</td>\n",
       "      <td>Attendee</td>\n",
       "      <td>2017-11-11 09:15:00</td>\n",
       "      <td>153.0</td>\n",
       "      <td>2017</td>\n",
       "      <td>2017.0</td>\n",
       "    </tr>\n",
       "    <tr>\n",
       "      <th>1</th>\n",
       "      <td>Teaching Grammar: Classroom choices</td>\n",
       "      <td>2017-12-13 00:00:00</td>\n",
       "      <td>Others, Group 1</td>\n",
       "      <td>B462689</td>\n",
       "      <td>A514299</td>\n",
       "      <td>1</td>\n",
       "      <td>True</td>\n",
       "      <td>0.0</td>\n",
       "      <td>14960</td>\n",
       "      <td>Attending</td>\n",
       "      <td>Attendee</td>\n",
       "      <td>2017-11-11 09:18:00</td>\n",
       "      <td>153.0</td>\n",
       "      <td>2017</td>\n",
       "      <td>2017.0</td>\n",
       "    </tr>\n",
       "    <tr>\n",
       "      <th>2</th>\n",
       "      <td>Teaching Grammar: Classroom choices</td>\n",
       "      <td>2017-12-13 00:00:00</td>\n",
       "      <td>Others, Group 1</td>\n",
       "      <td>B467150</td>\n",
       "      <td>A519135</td>\n",
       "      <td>1</td>\n",
       "      <td>True</td>\n",
       "      <td>0.0</td>\n",
       "      <td>14960</td>\n",
       "      <td>Attending</td>\n",
       "      <td>Attendee</td>\n",
       "      <td>2017-11-22 17:02:00</td>\n",
       "      <td>153.0</td>\n",
       "      <td>2017</td>\n",
       "      <td>2017.0</td>\n",
       "    </tr>\n",
       "  </tbody>\n",
       "</table>\n",
       "</div>"
      ],
      "text/plain": [
       "                               EventName            StartDate  \\\n",
       "0  Developing Reading and Writing Skills  2017-11-28 00:00:00   \n",
       "1    Teaching Grammar: Classroom choices  2017-12-13 00:00:00   \n",
       "2    Teaching Grammar: Classroom choices  2017-12-13 00:00:00   \n",
       "\n",
       "         EventType BookingReference AttendeeReference  GroupSize  \\\n",
       "0  Others, Group 1          B462687           A514297          1   \n",
       "1  Others, Group 1          B462689           A514299          1   \n",
       "2  Others, Group 1          B467150           A519135          1   \n",
       "\n",
       "  IsLeadAttendee  AttendeeGrossCost  EventId BookingStatus AttendeeType  \\\n",
       "0           True                0.0    14983     Attending     Attendee   \n",
       "1           True                0.0    14960     Attending     Attendee   \n",
       "2           True                0.0    14960     Attending     Attendee   \n",
       "\n",
       "     StatusCreatedDate  ClientId  StartYear  StatusCreatedYear  \n",
       "0  2017-11-11 09:15:00     153.0       2017             2017.0  \n",
       "1  2017-11-11 09:18:00     153.0       2017             2017.0  \n",
       "2  2017-11-22 17:02:00     153.0       2017             2017.0  "
      ]
     },
     "execution_count": 35,
     "metadata": {},
     "output_type": "execute_result"
    }
   ],
   "source": [
    "client_data.head(3)"
   ]
  },
  {
   "cell_type": "code",
   "execution_count": 36,
   "metadata": {},
   "outputs": [],
   "source": [
    "client_data['StatusCreatedDate'] = client_data['StatusCreatedDate'].fillna(method='ffill')              # filling status created data (forgot to fill in sampling file)"
   ]
  },
  {
   "cell_type": "code",
   "execution_count": 37,
   "metadata": {},
   "outputs": [],
   "source": [
    "client_data['StartDate'] = pd.to_datetime(client_data['StartDate'], infer_datetime_format=True)\n",
    "client_data['StatusCreatedDate'] = pd.to_datetime(client_data['StatusCreatedDate'], infer_datetime_format=True)"
   ]
  },
  {
   "cell_type": "code",
   "execution_count": 38,
   "metadata": {},
   "outputs": [],
   "source": [
    "# Creating the Season column\n",
    "_condition_winter = (client_data.StartDate.dt.month>=1)&(client_data.StartDate.dt.month<=3)\n",
    "_condtion_spring = (client_data.StartDate.dt.month>=4)&(client_data.StartDate.dt.month<=6)\n",
    "_condition_summer = (client_data.StartDate.dt.month>=7)&(client_data.StartDate.dt.month<=9)\n",
    "_condition_autumn = (client_data.StartDate.dt.month>=10)&(client_data.StartDate.dt.month<=12)\n",
    "client_data['Season'] = np.where(_condition_winter,'Winter',np.where(_condtion_spring,'Spring',np.where(_condition_summer,'Summer',np.where(_condition_autumn,'Autumn',np.nan))))"
   ]
  },
  {
   "cell_type": "code",
   "execution_count": 39,
   "metadata": {},
   "outputs": [],
   "source": [
    "# Creating Days to Event\n",
    "client_data['Days to Event'] = (client_data['StartDate'] - client_data['StatusCreatedDate']).dt.days "
   ]
  },
  {
   "cell_type": "code",
   "execution_count": 40,
   "metadata": {},
   "outputs": [
    {
     "data": {
      "text/html": [
       "<div>\n",
       "<style scoped>\n",
       "    .dataframe tbody tr th:only-of-type {\n",
       "        vertical-align: middle;\n",
       "    }\n",
       "\n",
       "    .dataframe tbody tr th {\n",
       "        vertical-align: top;\n",
       "    }\n",
       "\n",
       "    .dataframe thead th {\n",
       "        text-align: right;\n",
       "    }\n",
       "</style>\n",
       "<table border=\"1\" class=\"dataframe\">\n",
       "  <thead>\n",
       "    <tr style=\"text-align: right;\">\n",
       "      <th></th>\n",
       "      <th>EventName</th>\n",
       "      <th>StartDate</th>\n",
       "      <th>EventType</th>\n",
       "      <th>BookingReference</th>\n",
       "      <th>AttendeeReference</th>\n",
       "      <th>GroupSize</th>\n",
       "      <th>IsLeadAttendee</th>\n",
       "      <th>AttendeeGrossCost</th>\n",
       "      <th>EventId</th>\n",
       "      <th>BookingStatus</th>\n",
       "      <th>AttendeeType</th>\n",
       "      <th>StatusCreatedDate</th>\n",
       "      <th>ClientId</th>\n",
       "      <th>StartYear</th>\n",
       "      <th>StatusCreatedYear</th>\n",
       "      <th>Season</th>\n",
       "      <th>Days to Event</th>\n",
       "    </tr>\n",
       "  </thead>\n",
       "  <tbody>\n",
       "    <tr>\n",
       "      <th>0</th>\n",
       "      <td>Developing Reading and Writing Skills</td>\n",
       "      <td>2017-11-28</td>\n",
       "      <td>Others, Group 1</td>\n",
       "      <td>B462687</td>\n",
       "      <td>A514297</td>\n",
       "      <td>1</td>\n",
       "      <td>True</td>\n",
       "      <td>0.0</td>\n",
       "      <td>14983</td>\n",
       "      <td>Attending</td>\n",
       "      <td>Attendee</td>\n",
       "      <td>2017-11-11 09:15:00</td>\n",
       "      <td>153.0</td>\n",
       "      <td>2017</td>\n",
       "      <td>2017.0</td>\n",
       "      <td>Autumn</td>\n",
       "      <td>16</td>\n",
       "    </tr>\n",
       "    <tr>\n",
       "      <th>1</th>\n",
       "      <td>Teaching Grammar: Classroom choices</td>\n",
       "      <td>2017-12-13</td>\n",
       "      <td>Others, Group 1</td>\n",
       "      <td>B462689</td>\n",
       "      <td>A514299</td>\n",
       "      <td>1</td>\n",
       "      <td>True</td>\n",
       "      <td>0.0</td>\n",
       "      <td>14960</td>\n",
       "      <td>Attending</td>\n",
       "      <td>Attendee</td>\n",
       "      <td>2017-11-11 09:18:00</td>\n",
       "      <td>153.0</td>\n",
       "      <td>2017</td>\n",
       "      <td>2017.0</td>\n",
       "      <td>Autumn</td>\n",
       "      <td>31</td>\n",
       "    </tr>\n",
       "    <tr>\n",
       "      <th>2</th>\n",
       "      <td>Teaching Grammar: Classroom choices</td>\n",
       "      <td>2017-12-13</td>\n",
       "      <td>Others, Group 1</td>\n",
       "      <td>B467150</td>\n",
       "      <td>A519135</td>\n",
       "      <td>1</td>\n",
       "      <td>True</td>\n",
       "      <td>0.0</td>\n",
       "      <td>14960</td>\n",
       "      <td>Attending</td>\n",
       "      <td>Attendee</td>\n",
       "      <td>2017-11-22 17:02:00</td>\n",
       "      <td>153.0</td>\n",
       "      <td>2017</td>\n",
       "      <td>2017.0</td>\n",
       "      <td>Autumn</td>\n",
       "      <td>20</td>\n",
       "    </tr>\n",
       "  </tbody>\n",
       "</table>\n",
       "</div>"
      ],
      "text/plain": [
       "                               EventName  StartDate        EventType  \\\n",
       "0  Developing Reading and Writing Skills 2017-11-28  Others, Group 1   \n",
       "1    Teaching Grammar: Classroom choices 2017-12-13  Others, Group 1   \n",
       "2    Teaching Grammar: Classroom choices 2017-12-13  Others, Group 1   \n",
       "\n",
       "  BookingReference AttendeeReference  GroupSize IsLeadAttendee  \\\n",
       "0          B462687           A514297          1           True   \n",
       "1          B462689           A514299          1           True   \n",
       "2          B467150           A519135          1           True   \n",
       "\n",
       "   AttendeeGrossCost  EventId BookingStatus AttendeeType   StatusCreatedDate  \\\n",
       "0                0.0    14983     Attending     Attendee 2017-11-11 09:15:00   \n",
       "1                0.0    14960     Attending     Attendee 2017-11-11 09:18:00   \n",
       "2                0.0    14960     Attending     Attendee 2017-11-22 17:02:00   \n",
       "\n",
       "   ClientId  StartYear  StatusCreatedYear  Season  Days to Event  \n",
       "0     153.0       2017             2017.0  Autumn             16  \n",
       "1     153.0       2017             2017.0  Autumn             31  \n",
       "2     153.0       2017             2017.0  Autumn             20  "
      ]
     },
     "execution_count": 40,
     "metadata": {},
     "output_type": "execute_result"
    }
   ],
   "source": [
    "client_data.head(3)"
   ]
  },
  {
   "cell_type": "code",
   "execution_count": 41,
   "metadata": {},
   "outputs": [
    {
     "name": "stdout",
     "output_type": "stream",
     "text": [
      "<class 'pandas.core.frame.DataFrame'>\n",
      "RangeIndex: 658446 entries, 0 to 658445\n",
      "Data columns (total 17 columns):\n",
      " #   Column             Non-Null Count   Dtype         \n",
      "---  ------             --------------   -----         \n",
      " 0   EventName          658446 non-null  object        \n",
      " 1   StartDate          658446 non-null  datetime64[ns]\n",
      " 2   EventType          658446 non-null  object        \n",
      " 3   BookingReference   658446 non-null  object        \n",
      " 4   AttendeeReference  658446 non-null  object        \n",
      " 5   GroupSize          658446 non-null  int64         \n",
      " 6   IsLeadAttendee     658446 non-null  object        \n",
      " 7   AttendeeGrossCost  658446 non-null  float64       \n",
      " 8   EventId            658446 non-null  int64         \n",
      " 9   BookingStatus      658446 non-null  object        \n",
      " 10  AttendeeType       658446 non-null  object        \n",
      " 11  StatusCreatedDate  658446 non-null  datetime64[ns]\n",
      " 12  ClientId           658446 non-null  float64       \n",
      " 13  StartYear          658446 non-null  int64         \n",
      " 14  StatusCreatedYear  658444 non-null  float64       \n",
      " 15  Season             658446 non-null  object        \n",
      " 16  Days to Event      658446 non-null  int64         \n",
      "dtypes: datetime64[ns](2), float64(3), int64(4), object(8)\n",
      "memory usage: 85.4+ MB\n"
     ]
    }
   ],
   "source": [
    "client_data.info()"
   ]
  },
  {
   "cell_type": "code",
   "execution_count": 42,
   "metadata": {},
   "outputs": [],
   "source": [
    "# Using drop() to delete row based with '#NUM!'\n",
    "\n",
    "client_data.drop(client_data[client_data['Days to Event'] < 0].index, inplace=True)"
   ]
  },
  {
   "cell_type": "code",
   "execution_count": 43,
   "metadata": {},
   "outputs": [],
   "source": [
    "# Creating weeks to Event\n",
    "client_data['Weeks to Event'] = client_data['Days to Event'].div(7).round(0)"
   ]
  },
  {
   "cell_type": "code",
   "execution_count": 44,
   "metadata": {},
   "outputs": [
    {
     "name": "stdout",
     "output_type": "stream",
     "text": [
      "<class 'pandas.core.frame.DataFrame'>\n",
      "Int64Index: 474976 entries, 0 to 658353\n",
      "Data columns (total 18 columns):\n",
      " #   Column             Non-Null Count   Dtype         \n",
      "---  ------             --------------   -----         \n",
      " 0   EventName          474976 non-null  object        \n",
      " 1   StartDate          474976 non-null  datetime64[ns]\n",
      " 2   EventType          474976 non-null  object        \n",
      " 3   BookingReference   474976 non-null  object        \n",
      " 4   AttendeeReference  474976 non-null  object        \n",
      " 5   GroupSize          474976 non-null  int64         \n",
      " 6   IsLeadAttendee     474976 non-null  object        \n",
      " 7   AttendeeGrossCost  474976 non-null  float64       \n",
      " 8   EventId            474976 non-null  int64         \n",
      " 9   BookingStatus      474976 non-null  object        \n",
      " 10  AttendeeType       474976 non-null  object        \n",
      " 11  StatusCreatedDate  474976 non-null  datetime64[ns]\n",
      " 12  ClientId           474976 non-null  float64       \n",
      " 13  StartYear          474976 non-null  int64         \n",
      " 14  StatusCreatedYear  474976 non-null  float64       \n",
      " 15  Season             474976 non-null  object        \n",
      " 16  Days to Event      474976 non-null  int64         \n",
      " 17  Weeks to Event     474976 non-null  float64       \n",
      "dtypes: datetime64[ns](2), float64(4), int64(4), object(8)\n",
      "memory usage: 68.9+ MB\n"
     ]
    }
   ],
   "source": [
    "client_data.info()"
   ]
  },
  {
   "cell_type": "code",
   "execution_count": 45,
   "metadata": {},
   "outputs": [
    {
     "data": {
      "text/plain": [
       "0"
      ]
     },
     "execution_count": 45,
     "metadata": {},
     "output_type": "execute_result"
    }
   ],
   "source": [
    "client_data['Days to Event'].isnull().sum()"
   ]
  },
  {
   "cell_type": "code",
   "execution_count": 46,
   "metadata": {},
   "outputs": [],
   "source": [
    "# Dropping rows with \"Cancelled\" in event name column\n",
    "client_data.drop(client_data[~client_data[\"EventName\"].str.contains('CANCELLED')==False].index, inplace=True)\n",
    "# Dropping rows with \"Cancelled\" in BookingStatus column\n",
    "client_data.drop(client_data[client_data[\"BookingStatus\"] == \"Cancelled\"].index, inplace= True)"
   ]
  },
  {
   "cell_type": "code",
   "execution_count": 30,
   "metadata": {},
   "outputs": [
    {
     "name": "stdout",
     "output_type": "stream",
     "text": [
      "<class 'pandas.core.frame.DataFrame'>\n",
      "Int64Index: 472592 entries, 0 to 658353\n",
      "Data columns (total 18 columns):\n",
      " #   Column             Non-Null Count   Dtype         \n",
      "---  ------             --------------   -----         \n",
      " 0   EventName          472592 non-null  object        \n",
      " 1   StartDate          472592 non-null  datetime64[ns]\n",
      " 2   EventType          472592 non-null  object        \n",
      " 3   BookingReference   472592 non-null  object        \n",
      " 4   AttendeeReference  472592 non-null  object        \n",
      " 5   GroupSize          472592 non-null  int64         \n",
      " 6   IsLeadAttendee     472592 non-null  object        \n",
      " 7   AttendeeGrossCost  472592 non-null  float64       \n",
      " 8   EventId            472592 non-null  int64         \n",
      " 9   BookingStatus      472592 non-null  object        \n",
      " 10  AttendeeType       472592 non-null  object        \n",
      " 11  StatusCreatedDate  472592 non-null  datetime64[ns]\n",
      " 12  ClientId           472592 non-null  float64       \n",
      " 13  StartYear          472592 non-null  int64         \n",
      " 14  StatusCreatedYear  472592 non-null  float64       \n",
      " 15  Season             472592 non-null  object        \n",
      " 16  Days to Event      472592 non-null  int64         \n",
      " 17  Weeks to Event     472592 non-null  float64       \n",
      "dtypes: datetime64[ns](2), float64(4), int64(4), object(8)\n",
      "memory usage: 68.5+ MB\n"
     ]
    }
   ],
   "source": [
    "client_data.info()"
   ]
  },
  {
   "cell_type": "markdown",
   "metadata": {},
   "source": [
    "### Correlations "
   ]
  },
  {
   "cell_type": "code",
   "execution_count": 276,
   "metadata": {},
   "outputs": [],
   "source": [
    "# numeric\n",
    "var_list_num = client_data.select_dtypes(include='number').columns.tolist()\n",
    "\n",
    "# Categorical\n",
    "var_list_cat = client_data.select_dtypes(include = ['object', 'category']).columns.tolist()"
   ]
  },
  {
   "cell_type": "code",
   "execution_count": null,
   "metadata": {},
   "outputs": [],
   "source": [
    "# Correlation \n",
    "corr_client_data_all = client_data[var_list_num].corr()\n",
    "\n",
    "# plot correlations\n",
    "corr_client_data_all = round(corr_client_data_all,2)\n",
    "mask = np.zeros_like(corr_client_data_all, dtype=np.bool)\n",
    "mask[np.triu_indices_from(mask)] = True\n",
    "f, ax = plt.subplots(figsize=(11,9))\n",
    "sns.heatmap(corr_client_data_all, mask=mask, cmap='RdYlGn', vmin = -1, vmax=1, center=0, square=True, linewidths=.5, cbar_kws={\"shrink\": .5}, annot=True)\n",
    "plt.show()"
   ]
  },
  {
   "cell_type": "code",
   "execution_count": null,
   "metadata": {},
   "outputs": [],
   "source": [
    "#Function to run a series of chi-squared independance tests for all the\n",
    "#features against the target\n",
    "def get_chi_squared_target(df,target,feature_list):\n",
    "    \n",
    "    ''' \n",
    "    Performs a chi-squared test between specified variables in the dataframe\n",
    "    Parameters\n",
    "      df: a dataframe\n",
    "      target: string, a variable you want to be in every chi-squared\n",
    "      feature_list: list, the other variables you want to test the target with\n",
    "    Returns a dataframe\n",
    "    '''\n",
    "    \n",
    "    results_buffer = {}\n",
    "    for var in feature_list:\n",
    "        xtab = pd.crosstab(df[target],df[var])\n",
    "        res = stats.chi2_contingency(xtab)\n",
    "        chi_squred_crit_value = stats.chi2.ppf(q = 0.95,df = res[2])\n",
    "        print(f\"\\nResults for {target} and {var}\")\n",
    "        print(f\"\\tChi-squared:\\t{res[0]}\")\n",
    "        print(f\"\\tP-value:\\t{res[1]}\")\n",
    "        print(f\"\\tDoF:\\t\\t{res[2]}\")\n",
    "        print(f\"\\tCrit-value:\\t{chi_squred_crit_value}\")\n",
    "        print(f\"\\tUplift:\\t\\t{res[0] / chi_squred_crit_value}\")\n",
    "        results_buffer[var] = (res[0] / chi_squred_crit_value)\n",
    "    return pd.Series(results_buffer, name = 'uplift').sort_values(ascending = False)\n",
    "\n",
    "\n",
    "chi2_target = get_chi_squared_target(client_data,'Season',var_list_cat)"
   ]
  },
  {
   "cell_type": "markdown",
   "metadata": {},
   "source": [
    "### Export datasets"
   ]
  },
  {
   "cell_type": "code",
   "execution_count": 47,
   "metadata": {},
   "outputs": [],
   "source": [
    "# export\n",
    "client_data.to_csv(os.path.join(processing_path,dataset_EDA_fname) + dataset_fname_suffix,index = False)"
   ]
  },
  {
   "cell_type": "code",
   "execution_count": null,
   "metadata": {},
   "outputs": [],
   "source": []
  }
 ],
 "metadata": {
  "kernelspec": {
   "display_name": "Python 3.10.4 ('elec')",
   "language": "python",
   "name": "python3"
  },
  "language_info": {
   "codemirror_mode": {
    "name": "ipython",
    "version": 3
   },
   "file_extension": ".py",
   "mimetype": "text/x-python",
   "name": "python",
   "nbconvert_exporter": "python",
   "pygments_lexer": "ipython3",
   "version": "3.10.4"
  },
  "orig_nbformat": 4,
  "vscode": {
   "interpreter": {
    "hash": "a03df1490dae5edca8350f1d64d7f189571412bea11a20357ccabc9e7f68ebdc"
   }
  }
 },
 "nbformat": 4,
 "nbformat_minor": 2
}
